{
 "cells": [
  {
   "cell_type": "code",
   "execution_count": null,
   "metadata": {
    "execution": {
     "iopub.execute_input": "2025-06-11T16:35:32.124967Z",
     "iopub.status.busy": "2025-06-11T16:35:32.124347Z",
     "iopub.status.idle": "2025-06-11T16:35:32.129322Z",
     "shell.execute_reply": "2025-06-11T16:35:32.128597Z",
     "shell.execute_reply.started": "2025-06-11T16:35:32.124946Z"
    },
    "trusted": true
   },
   "outputs": [],
   "source": [
    "import pandas as pd\n",
    "from sklearn.model_selection import train_test_split\n",
    "from imblearn.over_sampling import SMOTE\n",
    "from sklearn.metrics import roc_auc_score, confusion_matrix\n",
    "from sklearn.ensemble import RandomForestClassifier\n",
    "from sklearn.linear_model import LogisticRegression"
   ]
  },
  {
   "cell_type": "code",
   "execution_count": 63,
   "metadata": {
    "execution": {
     "iopub.execute_input": "2025-06-11T15:46:42.782326Z",
     "iopub.status.busy": "2025-06-11T15:46:42.781486Z",
     "iopub.status.idle": "2025-06-11T15:46:43.457269Z",
     "shell.execute_reply": "2025-06-11T15:46:43.456473Z",
     "shell.execute_reply.started": "2025-06-11T15:46:42.782295Z"
    },
    "trusted": true
   },
   "outputs": [],
   "source": [
    "df = pd.read_csv(\"/kaggle/input/data-ml/cleaned_aml.csv\")"
   ]
  },
  {
   "cell_type": "code",
   "execution_count": 67,
   "metadata": {
    "execution": {
     "iopub.execute_input": "2025-06-11T15:48:07.549893Z",
     "iopub.status.busy": "2025-06-11T15:48:07.549175Z",
     "iopub.status.idle": "2025-06-11T15:48:07.581597Z",
     "shell.execute_reply": "2025-06-11T15:48:07.580988Z",
     "shell.execute_reply.started": "2025-06-11T15:48:07.549866Z"
    },
    "trusted": true
   },
   "outputs": [
    {
     "name": "stdout",
     "output_type": "stream",
     "text": [
      "laundering = 1 shape: (830, 13)\n",
      " launder = 0 shape: (916247, 13)\n"
     ]
    }
   ],
   "source": [
    "print(f\"laundering = 1 shape: {df[df['is_laundering']==1].shape}\\n launder = 0 shape: {df[df['is_laundering']==0].shape}\")"
   ]
  },
  {
   "cell_type": "code",
   "execution_count": 5,
   "metadata": {
    "execution": {
     "iopub.execute_input": "2025-06-11T15:11:15.027864Z",
     "iopub.status.busy": "2025-06-11T15:11:15.027321Z",
     "iopub.status.idle": "2025-06-11T15:11:15.034731Z",
     "shell.execute_reply": "2025-06-11T15:11:15.034060Z",
     "shell.execute_reply.started": "2025-06-11T15:11:15.027841Z"
    },
    "trusted": true
   },
   "outputs": [
    {
     "data": {
      "text/plain": [
       "Index(['amount', 'is_laundering', 'hour', 'dayofweek', 'change_currency',\n",
       "       'change_location', 'payment_type_ACH', 'payment_type_Cash Deposit',\n",
       "       'payment_type_Cash Withdrawal', 'payment_type_Cheque',\n",
       "       'payment_type_Credit card', 'payment_type_Cross-border',\n",
       "       'payment_type_Debit card'],\n",
       "      dtype='object')"
      ]
     },
     "execution_count": 5,
     "metadata": {},
     "output_type": "execute_result"
    }
   ],
   "source": [
    "df.columns"
   ]
  },
  {
   "cell_type": "code",
   "execution_count": 155,
   "metadata": {
    "execution": {
     "iopub.execute_input": "2025-06-11T16:19:22.965918Z",
     "iopub.status.busy": "2025-06-11T16:19:22.965376Z",
     "iopub.status.idle": "2025-06-11T16:19:22.973301Z",
     "shell.execute_reply": "2025-06-11T16:19:22.972739Z",
     "shell.execute_reply.started": "2025-06-11T16:19:22.965896Z"
    },
    "trusted": true
   },
   "outputs": [],
   "source": [
    "df_laundering_1 = df[df['is_laundering'] == 1] \n",
    "df_laundering_0_sampled = df[df['is_laundering'] == 0].sample(n=8300, random_state=42)  \n",
    "df_balanced = pd.concat([df_laundering_1, df_laundering_0_sampled])"
   ]
  },
  {
   "cell_type": "code",
   "execution_count": 72,
   "metadata": {
    "execution": {
     "iopub.execute_input": "2025-06-11T15:49:46.621139Z",
     "iopub.status.busy": "2025-06-11T15:49:46.620566Z",
     "iopub.status.idle": "2025-06-11T15:49:46.624140Z",
     "shell.execute_reply": "2025-06-11T15:49:46.623470Z",
     "shell.execute_reply.started": "2025-06-11T15:49:46.621118Z"
    },
    "trusted": true
   },
   "outputs": [],
   "source": [
    "df = df_balanced"
   ]
  },
  {
   "cell_type": "code",
   "execution_count": null,
   "metadata": {
    "trusted": true
   },
   "outputs": [],
   "source": [
    "y = df['is_laundering']\n",
    "x = df.drop(columns=[\"is_laundering\"])"
   ]
  },
  {
   "cell_type": "code",
   "execution_count": 153,
   "metadata": {
    "execution": {
     "iopub.execute_input": "2025-06-11T16:18:59.044123Z",
     "iopub.status.busy": "2025-06-11T16:18:59.043453Z",
     "iopub.status.idle": "2025-06-11T16:18:59.048325Z",
     "shell.execute_reply": "2025-06-11T16:18:59.047814Z",
     "shell.execute_reply.started": "2025-06-11T16:18:59.044098Z"
    },
    "trusted": true
   },
   "outputs": [
    {
     "data": {
      "text/plain": [
       "((9130, 12), (9130,))"
      ]
     },
     "execution_count": 153,
     "metadata": {},
     "output_type": "execute_result"
    }
   ],
   "source": [
    "x.shape, y.shape"
   ]
  },
  {
   "cell_type": "code",
   "execution_count": 160,
   "metadata": {
    "execution": {
     "iopub.execute_input": "2025-06-11T16:22:03.746475Z",
     "iopub.status.busy": "2025-06-11T16:22:03.746206Z",
     "iopub.status.idle": "2025-06-11T16:22:03.754481Z",
     "shell.execute_reply": "2025-06-11T16:22:03.753770Z",
     "shell.execute_reply.started": "2025-06-11T16:22:03.746453Z"
    },
    "trusted": true
   },
   "outputs": [],
   "source": [
    "X_train, X_test, y_train, y_test = train_test_split(\n",
    "    x, y,\n",
    "    test_size=0.2,\n",
    "    random_state=42,\n",
    "    stratify=y\n",
    ")"
   ]
  },
  {
   "cell_type": "code",
   "execution_count": 146,
   "metadata": {
    "execution": {
     "iopub.execute_input": "2025-06-11T16:18:19.518139Z",
     "iopub.status.busy": "2025-06-11T16:18:19.517530Z",
     "iopub.status.idle": "2025-06-11T16:18:19.534406Z",
     "shell.execute_reply": "2025-06-11T16:18:19.533931Z",
     "shell.execute_reply.started": "2025-06-11T16:18:19.518116Z"
    },
    "trusted": true
   },
   "outputs": [],
   "source": [
    "smote = SMOTE(sampling_strategy=1.0, random_state=42)\n",
    "X_train_smote, y_train_smote = smote.fit_resample(X_train, y_train)"
   ]
  },
  {
   "cell_type": "code",
   "execution_count": 161,
   "metadata": {
    "execution": {
     "iopub.execute_input": "2025-06-11T16:22:13.101015Z",
     "iopub.status.busy": "2025-06-11T16:22:13.100750Z",
     "iopub.status.idle": "2025-06-11T16:22:13.108531Z",
     "shell.execute_reply": "2025-06-11T16:22:13.107785Z",
     "shell.execute_reply.started": "2025-06-11T16:22:13.100996Z"
    },
    "trusted": true
   },
   "outputs": [
    {
     "name": "stdout",
     "output_type": "stream",
     "text": [
      "Before SMOTE: 664 positives, 6640 negatives\n",
      "After SMOTE: 5477 positives, 5477 negatives\n"
     ]
    }
   ],
   "source": [
    "print(f\"Before SMOTE: {sum(y_train==1)} positives, {sum(y_train==0)} negatives\")\n",
    "print(f\"After SMOTE: {sum(y_train_smote==1)} positives, {sum(y_train_smote==0)} negatives\")"
   ]
  },
  {
   "cell_type": "code",
   "execution_count": 148,
   "metadata": {
    "execution": {
     "iopub.execute_input": "2025-06-11T16:18:29.171350Z",
     "iopub.status.busy": "2025-06-11T16:18:29.171085Z",
     "iopub.status.idle": "2025-06-11T16:18:29.176214Z",
     "shell.execute_reply": "2025-06-11T16:18:29.175550Z",
     "shell.execute_reply.started": "2025-06-11T16:18:29.171330Z"
    },
    "trusted": true
   },
   "outputs": [],
   "source": [
    "def evaluation_metrics(y_true, y_pred):\n",
    "    tn, fp, fn, tp = confusion_matrix(y_true, y_pred).ravel()\n",
    "    \n",
    "    precision = tp / (tp + fp) if (tp + fp) > 0 else 0\n",
    "    recall = tp / (tp + fn) if (tp + fn) > 0 else 0\n",
    "    f1 = 2 * (precision * recall) / (precision + recall) if (precision + recall) > 0 else 0\n",
    "    \n",
    "    print(f\"Precision: {precision:.3f}\")\n",
    "    print(f\"Recall: {recall:.3f}\")\n",
    "    print(f\"F1 Score: {f1:.3f}\")\n",
    "        "
   ]
  },
  {
   "cell_type": "code",
   "execution_count": 162,
   "metadata": {
    "execution": {
     "iopub.execute_input": "2025-06-11T16:22:24.202492Z",
     "iopub.status.busy": "2025-06-11T16:22:24.201889Z",
     "iopub.status.idle": "2025-06-11T16:22:24.634761Z",
     "shell.execute_reply": "2025-06-11T16:22:24.634127Z",
     "shell.execute_reply.started": "2025-06-11T16:22:24.202466Z"
    },
    "trusted": true
   },
   "outputs": [
    {
     "name": "stdout",
     "output_type": "stream",
     "text": [
      "**RandomForest without SMOTE**\n",
      "Precision: 0.525\n",
      "Recall: 0.187\n",
      "F1 Score: 0.276\n"
     ]
    }
   ],
   "source": [
    "rf_model_no_smote = RandomForestClassifier(\n",
    "    n_estimators=100,\n",
    "    random_state=42,\n",
    "    n_jobs=-1,\n",
    "    class_weight=\"balanced\"\n",
    ")\n",
    "\n",
    "rf_model_no_smote.fit(X_train, y_train)\n",
    "y_pred = rf_model_no_smote.predict(X_test)\n",
    "print(\"**RandomForest without SMOTE**\")\n",
    "evaluation_metrics(y_test, y_pred)"
   ]
  },
  {
   "cell_type": "code",
   "execution_count": 163,
   "metadata": {
    "execution": {
     "iopub.execute_input": "2025-06-11T16:22:47.493935Z",
     "iopub.status.busy": "2025-06-11T16:22:47.493250Z",
     "iopub.status.idle": "2025-06-11T16:22:48.002400Z",
     "shell.execute_reply": "2025-06-11T16:22:48.001609Z",
     "shell.execute_reply.started": "2025-06-11T16:22:47.493911Z"
    },
    "trusted": true
   },
   "outputs": [
    {
     "name": "stdout",
     "output_type": "stream",
     "text": [
      "**RandomForest with SMOTE**\n",
      "Precision: 0.663\n",
      "Recall: 0.783\n",
      "F1 Score: 0.718\n"
     ]
    }
   ],
   "source": [
    "rf_model_smote = RandomForestClassifier(\n",
    "    n_estimators=100,\n",
    "    random_state=42,\n",
    "    n_jobs=-1,\n",
    "    class_weight=\"balanced\"\n",
    ")\n",
    "\n",
    "rf_model_smote.fit(X_train_smote, y_train_smote)\n",
    "y_pred = rf_model_smote.predict(X_test)\n",
    "print(\"**RandomForest with SMOTE**\")\n",
    "evaluation_metrics(y_test, y_pred)"
   ]
  },
  {
   "cell_type": "code",
   "execution_count": 164,
   "metadata": {
    "execution": {
     "iopub.execute_input": "2025-06-11T16:24:36.270101Z",
     "iopub.status.busy": "2025-06-11T16:24:36.269673Z",
     "iopub.status.idle": "2025-06-11T16:24:36.377571Z",
     "shell.execute_reply": "2025-06-11T16:24:36.376727Z",
     "shell.execute_reply.started": "2025-06-11T16:24:36.270077Z"
    },
    "trusted": true
   },
   "outputs": [
    {
     "name": "stdout",
     "output_type": "stream",
     "text": [
      "**XGBoost without SMOTE**\n",
      "Test AUC: 0.7821690375961677\n",
      "Precision: 0.290\n",
      "Recall: 0.578\n",
      "F1 Score: 0.386\n"
     ]
    }
   ],
   "source": [
    "xgb_model = XGBClassifier(\n",
    "    n_estimators=100,  \n",
    "    max_depth=6,       \n",
    "    learning_rate=0.01, \n",
    "    scale_pos_weight = (len(y_train) - sum(y_train)) / sum(y_train), \n",
    "    random_state=42    \n",
    ")\n",
    "\n",
    "xgb_model.fit(X_train, y_train)\n",
    "\n",
    "y_pred = xgb_model.predict(X_test)\n",
    "y_pred_prob = xgb_model.predict_proba(X_test)[:, 1]  \n",
    "\n",
    "roc_auc = roc_auc_score(y_test, y_pred_prob)\n",
    "print(\"**XGBoost without SMOTE**\")\n",
    "print(f\"Test AUC: {roc_auc}\")\n",
    "\n",
    "evaluation_metrics(y_test, y_pred)"
   ]
  },
  {
   "cell_type": "code",
   "execution_count": 165,
   "metadata": {
    "execution": {
     "iopub.execute_input": "2025-06-11T16:24:40.230093Z",
     "iopub.status.busy": "2025-06-11T16:24:40.229828Z",
     "iopub.status.idle": "2025-06-11T16:24:40.395309Z",
     "shell.execute_reply": "2025-06-11T16:24:40.394476Z",
     "shell.execute_reply.started": "2025-06-11T16:24:40.230074Z"
    },
    "trusted": true
   },
   "outputs": [
    {
     "name": "stdout",
     "output_type": "stream",
     "text": [
      "**XGBoost with SMOTE**\n",
      "Test AUC: 0.8016838438089708\n",
      "Precision: 0.333\n",
      "Recall: 0.512\n",
      "F1 Score: 0.404\n"
     ]
    }
   ],
   "source": [
    "xgb_model_smote = XGBClassifier(\n",
    "    n_estimators=100,  \n",
    "    max_depth=6,       \n",
    "    learning_rate=0.01, \n",
    "    scale_pos_weight = (len(y_train_smote) - sum(y_train_smote)) / sum(y_train_smote), \n",
    "    random_state=42    \n",
    ")\n",
    "\n",
    "\n",
    "xgb_model_smote.fit(X_train_smote, y_train_smote)\n",
    "\n",
    "y_pred = xgb_model_smote.predict(X_test)\n",
    "y_pred_prob = xgb_model_smote.predict_proba(X_test)[:, 1]  \n",
    "\n",
    "roc_auc = roc_auc_score(y_test, y_pred_prob)\n",
    "print(\"**XGBoost with SMOTE**\")\n",
    "print(f\"Test AUC: {roc_auc}\")\n",
    "evaluation_metrics(y_test, y_pred)"
   ]
  },
  {
   "cell_type": "code",
   "execution_count": 176,
   "metadata": {
    "execution": {
     "iopub.execute_input": "2025-06-11T16:36:50.008618Z",
     "iopub.status.busy": "2025-06-11T16:36:50.008320Z",
     "iopub.status.idle": "2025-06-11T16:36:50.192669Z",
     "shell.execute_reply": "2025-06-11T16:36:50.189849Z",
     "shell.execute_reply.started": "2025-06-11T16:36:50.008597Z"
    },
    "trusted": true
   },
   "outputs": [
    {
     "name": "stdout",
     "output_type": "stream",
     "text": [
      "**Logistic Regression without SMOTE**\n",
      "Test ROC-AUC: 0.7593\n",
      "Precision: 0.290\n",
      "Recall: 0.614\n",
      "F1 Score: 0.394\n"
     ]
    }
   ],
   "source": [
    "logreg = LogisticRegression(\n",
    "    max_iter=1000,       \n",
    "    class_weight='balanced',  \n",
    "    random_state=42\n",
    ")\n",
    "\n",
    "# Train the model\n",
    "logreg.fit(X_train, y_train)\n",
    "y_pred = logreg.predict(X_test)\n",
    "y_pred_prob = logreg.predict_proba(X_test)[:, 1]\n",
    "roc_auc = roc_auc_score(y_test, y_pred_prob)\n",
    "print(\"**Logistic Regression without SMOTE**\")\n",
    "print(f\"Test ROC-AUC: {roc_auc:.4f}\")\n",
    "evaluation_metrics(y_test, y_pred)"
   ]
  },
  {
   "cell_type": "code",
   "execution_count": 177,
   "metadata": {
    "execution": {
     "iopub.execute_input": "2025-06-11T16:36:52.042475Z",
     "iopub.status.busy": "2025-06-11T16:36:52.041926Z",
     "iopub.status.idle": "2025-06-11T16:36:52.292300Z",
     "shell.execute_reply": "2025-06-11T16:36:52.291777Z",
     "shell.execute_reply.started": "2025-06-11T16:36:52.042412Z"
    },
    "trusted": true
   },
   "outputs": [
    {
     "name": "stdout",
     "output_type": "stream",
     "text": [
      "**Logistic Regression with SMOTE**\n",
      "Test ROC-AUC: 0.7678\n",
      "Precision: 0.289\n",
      "Recall: 0.620\n",
      "F1 Score: 0.395\n"
     ]
    }
   ],
   "source": [
    "logreg_smote = LogisticRegression(\n",
    "    max_iter=1000,       \n",
    "    class_weight='balanced',  \n",
    "    random_state=42\n",
    ")\n",
    "\n",
    "# Train the model\n",
    "logreg_smote.fit(X_train_smote, y_train_smote)\n",
    "y_pred = logreg_smote.predict(X_test)\n",
    "y_pred_prob = logreg_smote.predict_proba(X_test)[:, 1]\n",
    "roc_auc = roc_auc_score(y_test, y_pred_prob)\n",
    "print(\"**Logistic Regression with SMOTE**\")\n",
    "print(f\"Test ROC-AUC: {roc_auc:.4f}\")\n",
    "evaluation_metrics(y_test, y_pred)"
   ]
  },
  {
   "cell_type": "code",
   "execution_count": null,
   "metadata": {
    "execution": {
     "iopub.execute_input": "2025-06-11T16:40:16.615349Z",
     "iopub.status.busy": "2025-06-11T16:40:16.614807Z",
     "iopub.status.idle": "2025-06-11T16:40:16.624245Z",
     "shell.execute_reply": "2025-06-11T16:40:16.623556Z",
     "shell.execute_reply.started": "2025-06-11T16:40:16.615326Z"
    },
    "trusted": true
   },
   "outputs": [],
   "source": [
    "import torch\n",
    "import torch.nn as nn\n",
    "import torch.optim as optim\n",
    "\n",
    "# Convert to tensor and move to float32\n",
    "X_train_tensor = torch.tensor(X_train.values, dtype=torch.float32)\n",
    "y_train_tensor = torch.tensor(y_train.values, dtype=torch.float32).unsqueeze(1)\n",
    "\n",
    "X_train_tensor_smote = torch.tensor(X_train_smote.values, dtype=torch.float32)\n",
    "y_train_tensor_smote = torch.tensor(y_train_smote.values, dtype=torch.float32).unsqueeze(1)\n",
    "\n",
    "X_test_tensor = torch.tensor(X_test.values, dtype=torch.float32)\n",
    "y_test_tensor = torch.tensor(y_test.values, dtype=torch.float32).unsqueeze(1)\n",
    "\n",
    "class SimpleNN(nn.Module):\n",
    "    def __init__(self, input_dim):\n",
    "        super(SimpleNN, self).__init__()\n",
    "        self.network = nn.Sequential(\n",
    "            nn.Linear(input_dim, 64),\n",
    "            nn.ReLU(),\n",
    "            nn.Dropout(0.3),\n",
    "            nn.Linear(64, 32),\n",
    "            nn.ReLU(),\n",
    "            nn.Linear(32, 1),\n",
    "            nn.Sigmoid()\n",
    "        )\n",
    "\n",
    "    def forward(self, x):\n",
    "        return self.network(x)"
   ]
  },
  {
   "cell_type": "code",
   "execution_count": 189,
   "metadata": {
    "execution": {
     "iopub.execute_input": "2025-06-11T16:42:33.519794Z",
     "iopub.status.busy": "2025-06-11T16:42:33.519535Z",
     "iopub.status.idle": "2025-06-11T16:42:33.724931Z",
     "shell.execute_reply": "2025-06-11T16:42:33.724269Z",
     "shell.execute_reply.started": "2025-06-11T16:42:33.519775Z"
    },
    "trusted": true
   },
   "outputs": [
    {
     "name": "stdout",
     "output_type": "stream",
     "text": [
      "**Simple Neural Network without SMOTE**\n",
      "Precision: 0.750\n",
      "Recall: 0.018\n",
      "F1 Score: 0.035\n"
     ]
    }
   ],
   "source": [
    "model = SimpleNN(X_train.shape[1])\n",
    "criterion = nn.BCELoss()\n",
    "optimizer = optim.Adam(model.parameters(), lr=0.01)\n",
    "\n",
    "# Training loop\n",
    "for epoch in range(50):\n",
    "    model.train()\n",
    "    optimizer.zero_grad()\n",
    "    outputs = model(X_train_tensor)\n",
    "    loss = criterion(outputs, y_train_tensor)\n",
    "    loss.backward()\n",
    "    optimizer.step()\n",
    "\n",
    "# Predict and evaluate\n",
    "model.eval()\n",
    "with torch.no_grad():\n",
    "    y_pred_prob = model(X_test_tensor).numpy()\n",
    "    y_pred = (y_pred_prob >= 0.5).astype(int)\n",
    "print(\"**Simple Neural Network without SMOTE**\")\n",
    "evaluation_metrics(y_test, y_pred)"
   ]
  },
  {
   "cell_type": "code",
   "execution_count": 192,
   "metadata": {
    "execution": {
     "iopub.execute_input": "2025-06-11T16:44:30.270138Z",
     "iopub.status.busy": "2025-06-11T16:44:30.269715Z",
     "iopub.status.idle": "2025-06-11T16:44:30.534379Z",
     "shell.execute_reply": "2025-06-11T16:44:30.533589Z",
     "shell.execute_reply.started": "2025-06-11T16:44:30.270118Z"
    },
    "trusted": true
   },
   "outputs": [
    {
     "name": "stdout",
     "output_type": "stream",
     "text": [
      "**Simple Neural Network with SMOTE**\n",
      "Precision: 0.285\n",
      "Recall: 0.608\n",
      "F1 Score: 0.388\n"
     ]
    }
   ],
   "source": [
    "model = SimpleNN(X_train_smote.shape[1])\n",
    "criterion = nn.BCELoss()\n",
    "optimizer = optim.Adam(model.parameters(), lr=0.01)\n",
    "\n",
    "# Training loop\n",
    "for epoch in range(50):\n",
    "    model.train()\n",
    "    optimizer.zero_grad()\n",
    "    outputs = model(X_train_tensor_smote)\n",
    "    loss = criterion(outputs, y_train_tensor_smote)\n",
    "    loss.backward()\n",
    "    optimizer.step()\n",
    "\n",
    "# Predict and evaluate\n",
    "model.eval()\n",
    "with torch.no_grad():\n",
    "    y_pred_prob = model(X_test_tensor).numpy()\n",
    "    y_pred = (y_pred_prob >= 0.5).astype(int)\n",
    "\n",
    "\n",
    "print(\"**Simple Neural Network with SMOTE**\")\n",
    "evaluation_metrics(y_test, y_pred)"
   ]
  },
  {
   "cell_type": "code",
   "execution_count": 193,
   "metadata": {
    "execution": {
     "iopub.execute_input": "2025-06-11T16:48:24.353787Z",
     "iopub.status.busy": "2025-06-11T16:48:24.352977Z",
     "iopub.status.idle": "2025-06-11T16:48:24.406029Z",
     "shell.execute_reply": "2025-06-11T16:48:24.405481Z",
     "shell.execute_reply.started": "2025-06-11T16:48:24.353762Z"
    },
    "trusted": true
   },
   "outputs": [
    {
     "data": {
      "text/plain": [
       "['/kaggle/working/best_random_forest_model.joblib']"
      ]
     },
     "execution_count": 193,
     "metadata": {},
     "output_type": "execute_result"
    }
   ],
   "source": [
    "import joblib\n",
    "joblib.dump(rf_model_smote, '/kaggle/working/best_random_forest_model.joblib')"
   ]
  }
 ],
 "metadata": {
  "kaggle": {
   "accelerator": "nvidiaTeslaT4",
   "dataSources": [
    {
     "datasetId": 7640161,
     "sourceId": 12132300,
     "sourceType": "datasetVersion"
    }
   ],
   "dockerImageVersionId": 31040,
   "isGpuEnabled": true,
   "isInternetEnabled": true,
   "language": "python",
   "sourceType": "notebook"
  },
  "kernelspec": {
   "display_name": "Python 3",
   "language": "python",
   "name": "python3"
  },
  "language_info": {
   "codemirror_mode": {
    "name": "ipython",
    "version": 3
   },
   "file_extension": ".py",
   "mimetype": "text/x-python",
   "name": "python",
   "nbconvert_exporter": "python",
   "pygments_lexer": "ipython3",
   "version": "3.11.11"
  }
 },
 "nbformat": 4,
 "nbformat_minor": 4
}
