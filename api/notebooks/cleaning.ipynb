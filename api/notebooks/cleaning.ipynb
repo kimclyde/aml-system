{
 "cells": [
  {
   "cell_type": "code",
   "execution_count": 1,
   "id": "67eded5a",
   "metadata": {},
   "outputs": [],
   "source": [
    "import findspark\n",
    "findspark.init()"
   ]
  },
  {
   "cell_type": "code",
   "execution_count": 2,
   "id": "fc8feb6b",
   "metadata": {},
   "outputs": [
    {
     "name": "stderr",
     "output_type": "stream",
     "text": [
      "WARNING: Using incubator modules: jdk.incubator.vector\n",
      "25/06/12 12:32:43 WARN NativeCodeLoader: Unable to load native-hadoop library for your platform... using builtin-java classes where applicable\n",
      "Using Spark's default log4j profile: org/apache/spark/log4j2-defaults.properties\n",
      "Setting default log level to \"WARN\".\n",
      "To adjust logging level use sc.setLogLevel(newLevel). For SparkR, use setLogLevel(newLevel).\n"
     ]
    },
    {
     "name": "stdout",
     "output_type": "stream",
     "text": [
      "Spark version: 4.0.0\n"
     ]
    }
   ],
   "source": [
    "from pyspark.sql import SparkSession\n",
    "from pyspark.sql.functions import hour, dayofweek, when, count, concat, col, to_timestamp, lit\n",
    "\n",
    "spark = SparkSession.builder \\\n",
    "    .appName(\"AML\") \\\n",
    "    .config(\"spark.jars\", \"/home/kimhor/postgresql-42.7.6.jar\") \\\n",
    "    .getOrCreate()\n",
    "\n",
    "print(f\"Spark version: {spark.version}\")"
   ]
  },
  {
   "cell_type": "markdown",
   "id": "4b4e2d72",
   "metadata": {},
   "source": [
    "# Step 1: Load Dataset from PostgreSQL"
   ]
  },
  {
   "cell_type": "code",
   "execution_count": 3,
   "id": "cce443f6",
   "metadata": {},
   "outputs": [
    {
     "name": "stdout",
     "output_type": "stream",
     "text": [
      "Successfully connected to PostgreSQL!\n"
     ]
    },
    {
     "name": "stderr",
     "output_type": "stream",
     "text": [
      "[Stage 0:>                                                          (0 + 1) / 1]\r"
     ]
    },
    {
     "name": "stdout",
     "output_type": "stream",
     "text": [
      "Number of rows: 917077\n",
      "Schema:\n",
      "root\n",
      " |-- id: integer (nullable = true)\n",
      " |-- time: string (nullable = true)\n",
      " |-- date: string (nullable = true)\n",
      " |-- sender_account: string (nullable = true)\n",
      " |-- receiver_account: string (nullable = true)\n",
      " |-- amount: decimal(15,2) (nullable = true)\n",
      " |-- payment_currency: string (nullable = true)\n",
      " |-- received_currency: string (nullable = true)\n",
      " |-- sender_bank_location: string (nullable = true)\n",
      " |-- receiver_bank_location: string (nullable = true)\n",
      " |-- payment_type: string (nullable = true)\n",
      " |-- is_laundering: integer (nullable = true)\n",
      " |-- laundering_type: string (nullable = true)\n",
      "\n"
     ]
    },
    {
     "name": "stderr",
     "output_type": "stream",
     "text": [
      "                                                                                \r"
     ]
    }
   ],
   "source": [
    "# Database connection parameters\n",
    "url = \"jdbc:postgresql://localhost:5432/postgres\"\n",
    "properties = {\n",
    "    \"user\": \"postgres\",\n",
    "    \"password\": \"0000\",\n",
    "    \"driver\": \"org.postgresql.Driver\"\n",
    "}\n",
    "\n",
    "table_name = \"aml_transactions\"\n",
    "\n",
    "# Test connection and read data\n",
    "try:\n",
    "    df = spark.read.jdbc(url=url, table=table_name, properties=properties)\n",
    "    print(\"Successfully connected to PostgreSQL!\")\n",
    "    print(f\"Number of rows: {df.count()}\")\n",
    "    print(\"Schema:\")\n",
    "    df.printSchema()\n",
    "except Exception as e:\n",
    "    print(f\"Error connecting to database: {e}\")"
   ]
  },
  {
   "cell_type": "code",
   "execution_count": null,
   "id": "e86f9958",
   "metadata": {},
   "outputs": [],
   "source": []
  },
  {
   "cell_type": "markdown",
   "id": "dca1d66d",
   "metadata": {},
   "source": [
    "# Step 2: Data Exploration"
   ]
  },
  {
   "cell_type": "code",
   "execution_count": 4,
   "id": "25da10a8",
   "metadata": {},
   "outputs": [],
   "source": [
    "df.createOrReplaceTempView(\"aml_transactions\")\n",
    "sql_query = \"SELECT * FROM aml_transactions\"\n",
    "\n",
    "df = spark.sql(sql_query)"
   ]
  },
  {
   "cell_type": "code",
   "execution_count": 5,
   "id": "9b4d1ea4",
   "metadata": {},
   "outputs": [
    {
     "name": "stderr",
     "output_type": "stream",
     "text": [
      "[Stage 3:>                                                          (0 + 1) / 1]\r"
     ]
    },
    {
     "name": "stdout",
     "output_type": "stream",
     "text": [
      "+---+--------+----------+--------------+----------------+--------+----------------+-----------------+--------------------+----------------------+------------+-------------+--------------------+\n",
      "| id|    time|      date|sender_account|receiver_account|  amount|payment_currency|received_currency|sender_bank_location|receiver_bank_location|payment_type|is_laundering|     laundering_type|\n",
      "+---+--------+----------+--------------+----------------+--------+----------------+-----------------+--------------------+----------------------+------------+-------------+--------------------+\n",
      "|  1|10:35:19|2022-10-07|    8724731955|      2769355426| 1459.15|       UK pounds|        UK pounds|                  UK|                    UK|Cash Deposit|            0|Normal_Cash_Deposits|\n",
      "|  2|10:35:20|2022-10-07|    1491989064|      8401255335| 6019.64|       UK pounds|           Dirham|                  UK|                   UAE|Cross-border|            0|      Normal_Fan_Out|\n",
      "|  3|10:35:20|2022-10-07|     287305149|      4404767002|14328.44|       UK pounds|        UK pounds|                  UK|                    UK|      Cheque|            0|Normal_Small_Fan_Out|\n",
      "|  4|10:35:21|2022-10-07|    5376652437|      9600420220|11895.00|       UK pounds|        UK pounds|                  UK|                    UK|         ACH|            0|       Normal_Fan_In|\n",
      "|  5|10:35:21|2022-10-07|    9614186178|      3803336972|  115.25|       UK pounds|        UK pounds|                  UK|                    UK|Cash Deposit|            0|Normal_Cash_Deposits|\n",
      "+---+--------+----------+--------------+----------------+--------+----------------+-----------------+--------------------+----------------------+------------+-------------+--------------------+\n",
      "only showing top 5 rows\n"
     ]
    },
    {
     "name": "stderr",
     "output_type": "stream",
     "text": [
      "                                                                                \r"
     ]
    }
   ],
   "source": [
    "df.show(5)"
   ]
  },
  {
   "cell_type": "code",
   "execution_count": 6,
   "id": "6641cf7e",
   "metadata": {},
   "outputs": [
    {
     "name": "stderr",
     "output_type": "stream",
     "text": [
      "25/06/11 22:02:43 WARN SparkStringUtils: Truncated the string representation of a plan since it was too large. This behavior can be adjusted by setting 'spark.sql.debug.maxToStringFields'.\n",
      "[Stage 4:>                                                          (0 + 1) / 1]\r"
     ]
    },
    {
     "name": "stdout",
     "output_type": "stream",
     "text": [
      "+-------+-----------------+--------+----------+--------------------+--------------------+------------------+----------------+-----------------+--------------------+----------------------+------------+--------------------+--------------------+\n",
      "|summary|               id|    time|      date|      sender_account|    receiver_account|            amount|payment_currency|received_currency|sender_bank_location|receiver_bank_location|payment_type|       is_laundering|     laundering_type|\n",
      "+-------+-----------------+--------+----------+--------------------+--------------------+------------------+----------------+-----------------+--------------------+----------------------+------------+--------------------+--------------------+\n",
      "|  count|           917077|  917077|    917077|              917077|              917077|            917077|          917077|           917077|              917077|                917077|      917077|              917077|              917077|\n",
      "|   mean|         458539.0|    NULL|      NULL| 5.006443159259052E9| 5.035521323757835E9|       8705.750132|            NULL|             NULL|                NULL|                  NULL|        NULL|9.050494124266555E-4|                NULL|\n",
      "| stddev|264737.4707463612|    NULL|      NULL|2.8875056306717663E9|2.8824370836896305E9|24509.318264386307|            NULL|             NULL|                NULL|                  NULL|        NULL|0.030070438706152808|                NULL|\n",
      "|    min|                1|00:00:01|2022-10-07|          1000200981|          1000065088|              5.54|    Albanian lek|     Albanian lek|             Albania|               Albania|         ACH|                   0|Behavioural_Change_1|\n",
      "|    max|           917077|23:59:59|2022-11-07|           999993403|           999997599|        6213931.56|             Yen|              Yen|                 USA|                   USA|  Debit card|                   1|         Structuring|\n",
      "+-------+-----------------+--------+----------+--------------------+--------------------+------------------+----------------+-----------------+--------------------+----------------------+------------+--------------------+--------------------+\n",
      "\n"
     ]
    },
    {
     "name": "stderr",
     "output_type": "stream",
     "text": [
      "                                                                                \r"
     ]
    }
   ],
   "source": [
    "df.describe().show()"
   ]
  },
  {
   "cell_type": "code",
   "execution_count": 7,
   "id": "30cb3165",
   "metadata": {},
   "outputs": [
    {
     "name": "stderr",
     "output_type": "stream",
     "text": [
      "[Stage 7:>                                                          (0 + 1) / 1]\r"
     ]
    },
    {
     "name": "stdout",
     "output_type": "stream",
     "text": [
      "+---+----+----+--------------+----------------+------+----------------+-----------------+--------------------+----------------------+------------+-------------+---------------+\n",
      "| id|time|date|sender_account|receiver_account|amount|payment_currency|received_currency|sender_bank_location|receiver_bank_location|payment_type|is_laundering|laundering_type|\n",
      "+---+----+----+--------------+----------------+------+----------------+-----------------+--------------------+----------------------+------------+-------------+---------------+\n",
      "|  0|   0|   0|             0|               0|     0|               0|                0|                   0|                     0|           0|            0|              0|\n",
      "+---+----+----+--------------+----------------+------+----------------+-----------------+--------------------+----------------------+------------+-------------+---------------+\n",
      "\n"
     ]
    },
    {
     "name": "stderr",
     "output_type": "stream",
     "text": [
      "                                                                                \r"
     ]
    }
   ],
   "source": [
    "# Check for null values in each column\n",
    "df.select([count(when(col(c).isNull(), c)).alias(c) for c in df.columns]).show()"
   ]
  },
  {
   "cell_type": "code",
   "execution_count": 8,
   "id": "1b4fefd2",
   "metadata": {},
   "outputs": [
    {
     "name": "stderr",
     "output_type": "stream",
     "text": [
      "[Stage 13:>                                                         (0 + 1) / 1]\r"
     ]
    },
    {
     "name": "stdout",
     "output_type": "stream",
     "text": [
      "Total rows: 917077\n",
      "Distinct rows: 917077\n",
      "Duplicate rows: 0\n"
     ]
    },
    {
     "name": "stderr",
     "output_type": "stream",
     "text": [
      "                                                                                \r"
     ]
    }
   ],
   "source": [
    "# Check for duplicate rows\n",
    "total_rows = df.count()\n",
    "distinct_rows = df.distinct().count()\n",
    "duplicate_count = total_rows - distinct_rows\n",
    "\n",
    "print(f\"Total rows: {total_rows}\")\n",
    "print(f\"Distinct rows: {distinct_rows}\")\n",
    "print(f\"Duplicate rows: {duplicate_count}\")"
   ]
  },
  {
   "cell_type": "markdown",
   "id": "1c815879",
   "metadata": {},
   "source": [
    "# Step 3: Feature Engineering"
   ]
  },
  {
   "cell_type": "code",
   "execution_count": 9,
   "id": "6701179e",
   "metadata": {},
   "outputs": [],
   "source": [
    "# Concatenate date and time columns and convert to datetime\n",
    "df = df.withColumn(\"datetime\", \n",
    "                   to_timestamp(concat(col(\"date\"), lit(\" \"), col(\"time\")), \n",
    "                               \"yyyy-MM-dd HH:mm:ss\"))"
   ]
  },
  {
   "cell_type": "code",
   "execution_count": 10,
   "id": "6eda04fc",
   "metadata": {},
   "outputs": [
    {
     "name": "stderr",
     "output_type": "stream",
     "text": [
      "[Stage 19:>                                                         (0 + 1) / 1]\r"
     ]
    },
    {
     "name": "stdout",
     "output_type": "stream",
     "text": [
      "+---+--------+----------+--------------+----------------+--------+----------------+-----------------+--------------------+----------------------+------------+-------------+--------------------+-------------------+\n",
      "| id|    time|      date|sender_account|receiver_account|  amount|payment_currency|received_currency|sender_bank_location|receiver_bank_location|payment_type|is_laundering|     laundering_type|           datetime|\n",
      "+---+--------+----------+--------------+----------------+--------+----------------+-----------------+--------------------+----------------------+------------+-------------+--------------------+-------------------+\n",
      "|  1|10:35:19|2022-10-07|    8724731955|      2769355426| 1459.15|       UK pounds|        UK pounds|                  UK|                    UK|Cash Deposit|            0|Normal_Cash_Deposits|2022-10-07 10:35:19|\n",
      "|  2|10:35:20|2022-10-07|    1491989064|      8401255335| 6019.64|       UK pounds|           Dirham|                  UK|                   UAE|Cross-border|            0|      Normal_Fan_Out|2022-10-07 10:35:20|\n",
      "|  3|10:35:20|2022-10-07|     287305149|      4404767002|14328.44|       UK pounds|        UK pounds|                  UK|                    UK|      Cheque|            0|Normal_Small_Fan_Out|2022-10-07 10:35:20|\n",
      "+---+--------+----------+--------------+----------------+--------+----------------+-----------------+--------------------+----------------------+------------+-------------+--------------------+-------------------+\n",
      "only showing top 3 rows\n"
     ]
    },
    {
     "name": "stderr",
     "output_type": "stream",
     "text": [
      "                                                                                \r"
     ]
    }
   ],
   "source": [
    "df.show(3)"
   ]
  },
  {
   "cell_type": "code",
   "execution_count": 11,
   "id": "5f9eaebf",
   "metadata": {},
   "outputs": [
    {
     "name": "stdout",
     "output_type": "stream",
     "text": [
      "root\n",
      " |-- id: integer (nullable = true)\n",
      " |-- time: string (nullable = true)\n",
      " |-- date: string (nullable = true)\n",
      " |-- sender_account: string (nullable = true)\n",
      " |-- receiver_account: string (nullable = true)\n",
      " |-- amount: decimal(15,2) (nullable = true)\n",
      " |-- payment_currency: string (nullable = true)\n",
      " |-- received_currency: string (nullable = true)\n",
      " |-- sender_bank_location: string (nullable = true)\n",
      " |-- receiver_bank_location: string (nullable = true)\n",
      " |-- payment_type: string (nullable = true)\n",
      " |-- is_laundering: integer (nullable = true)\n",
      " |-- laundering_type: string (nullable = true)\n",
      " |-- datetime: timestamp (nullable = true)\n",
      "\n"
     ]
    }
   ],
   "source": [
    "df.printSchema()"
   ]
  },
  {
   "cell_type": "code",
   "execution_count": 12,
   "id": "33588424",
   "metadata": {},
   "outputs": [],
   "source": [
    "# Extract hour from datetime\n",
    "df = df.withColumn(\"hour\", hour(\"datetime\"))\n",
    "\n",
    "# Extract day of the week using dayofweek function (Sunday = 1, Saturday = 7)\n",
    "df = df.withColumn(\"dayofweek\", dayofweek(\"datetime\"))"
   ]
  },
  {
   "cell_type": "code",
   "execution_count": 13,
   "id": "8da9baf8",
   "metadata": {},
   "outputs": [
    {
     "name": "stderr",
     "output_type": "stream",
     "text": [
      "[Stage 20:>                                                         (0 + 1) / 1]\r"
     ]
    },
    {
     "name": "stdout",
     "output_type": "stream",
     "text": [
      "+---+--------+----------+--------------+----------------+--------+----------------+-----------------+--------------------+----------------------+------------+-------------+--------------------+-------------------+----+---------+\n",
      "| id|    time|      date|sender_account|receiver_account|  amount|payment_currency|received_currency|sender_bank_location|receiver_bank_location|payment_type|is_laundering|     laundering_type|           datetime|hour|dayofweek|\n",
      "+---+--------+----------+--------------+----------------+--------+----------------+-----------------+--------------------+----------------------+------------+-------------+--------------------+-------------------+----+---------+\n",
      "|  1|10:35:19|2022-10-07|    8724731955|      2769355426| 1459.15|       UK pounds|        UK pounds|                  UK|                    UK|Cash Deposit|            0|Normal_Cash_Deposits|2022-10-07 10:35:19|  10|        6|\n",
      "|  2|10:35:20|2022-10-07|    1491989064|      8401255335| 6019.64|       UK pounds|           Dirham|                  UK|                   UAE|Cross-border|            0|      Normal_Fan_Out|2022-10-07 10:35:20|  10|        6|\n",
      "|  3|10:35:20|2022-10-07|     287305149|      4404767002|14328.44|       UK pounds|        UK pounds|                  UK|                    UK|      Cheque|            0|Normal_Small_Fan_Out|2022-10-07 10:35:20|  10|        6|\n",
      "+---+--------+----------+--------------+----------------+--------+----------------+-----------------+--------------------+----------------------+------------+-------------+--------------------+-------------------+----+---------+\n",
      "only showing top 3 rows\n"
     ]
    },
    {
     "name": "stderr",
     "output_type": "stream",
     "text": [
      "                                                                                \r"
     ]
    }
   ],
   "source": [
    "df.show(3)"
   ]
  },
  {
   "cell_type": "code",
   "execution_count": 14,
   "id": "e756b102",
   "metadata": {},
   "outputs": [],
   "source": [
    "df = df.drop(\"id\", \"date\", \"time\", \"sender_account\", \"receiver_account\", \"datetime\")"
   ]
  },
  {
   "cell_type": "code",
   "execution_count": 4,
   "id": "38f1f619",
   "metadata": {},
   "outputs": [
    {
     "name": "stderr",
     "output_type": "stream",
     "text": [
      "                                                                                \r"
     ]
    }
   ],
   "source": [
    "df = df.toPandas()"
   ]
  },
  {
   "cell_type": "code",
   "execution_count": 6,
   "id": "37c20ed3",
   "metadata": {},
   "outputs": [
    {
     "data": {
      "text/plain": [
       "array(['Cash Deposit', 'Cross-border', 'Cheque', 'ACH', 'Credit card',\n",
       "       'Debit card', 'Cash Withdrawal'], dtype=object)"
      ]
     },
     "execution_count": 6,
     "metadata": {},
     "output_type": "execute_result"
    }
   ],
   "source": [
    "df[\"payment_type\"].unique()"
   ]
  },
  {
   "cell_type": "code",
   "execution_count": 16,
   "id": "e168ee67",
   "metadata": {},
   "outputs": [],
   "source": [
    "from sklearn.preprocessing import RobustScaler\n",
    "scaler = RobustScaler()\n",
    "df['amount'] = df['amount'].astype(float)\n",
    "df['amount'] = scaler.fit_transform(df[['amount']])"
   ]
  },
  {
   "cell_type": "code",
   "execution_count": 17,
   "id": "463ee1d7",
   "metadata": {},
   "outputs": [
    {
     "data": {
      "text/plain": [
       "0   -0.561957\n",
       "1   -0.009364\n",
       "2    0.997411\n",
       "3    0.702551\n",
       "4   -0.724797\n",
       "Name: amount, dtype: float64"
      ]
     },
     "execution_count": 17,
     "metadata": {},
     "output_type": "execute_result"
    }
   ],
   "source": [
    "df['amount'].head()"
   ]
  },
  {
   "cell_type": "code",
   "execution_count": 18,
   "id": "453e6873",
   "metadata": {},
   "outputs": [
    {
     "name": "stdout",
     "output_type": "stream",
     "text": [
      "is_laundering                0    1\n",
      "laundering_type                    \n",
      "Behavioural_Change_1         0   55\n",
      "Behavioural_Change_2         0   25\n",
      "Bipartite                    0   17\n",
      "Cash_Withdrawal              0  101\n",
      "Cycle                        0   16\n",
      "Deposit-Send                 0   85\n",
      "Fan_In                       0   37\n",
      "Fan_Out                      0   14\n",
      "Gather-Scatter               0   25\n",
      "Layered_Fan_In               0   29\n",
      "Layered_Fan_Out              0   66\n",
      "Normal_Cash_Deposits     21002    0\n",
      "Normal_Cash_Withdrawal   29954    0\n",
      "Normal_Fan_In           203801    0\n",
      "Normal_Fan_Out          225391    0\n",
      "Normal_Foward             4105    0\n",
      "Normal_Group             51956    0\n",
      "Normal_Mutual            11256    0\n",
      "Normal_Periodical        19913    0\n",
      "Normal_Plus_Mutual        5100    0\n",
      "Normal_Small_Fan_Out    341727    0\n",
      "Normal_single_large       2042    0\n",
      "Over-Invoicing               0    4\n",
      "Scatter-Gather               0   11\n",
      "Single_large                 0   28\n",
      "Smurfing                     0   72\n",
      "Stacked Bipartite            0   57\n",
      "Structuring                  0  188\n"
     ]
    }
   ],
   "source": [
    "import pandas as pd\n",
    "\n",
    "ct = pd.crosstab(df['laundering_type'], df['is_laundering'], dropna=False)\n",
    "print(ct)"
   ]
  },
  {
   "cell_type": "code",
   "execution_count": 20,
   "id": "bb8cbd0e",
   "metadata": {},
   "outputs": [
    {
     "data": {
      "text/plain": [
       "Index(['amount', 'payment_currency', 'received_currency',\n",
       "       'sender_bank_location', 'receiver_bank_location', 'payment_type',\n",
       "       'is_laundering', 'laundering_type', 'hour', 'dayofweek'],\n",
       "      dtype='object')"
      ]
     },
     "execution_count": 20,
     "metadata": {},
     "output_type": "execute_result"
    }
   ],
   "source": [
    "df.columns"
   ]
  },
  {
   "cell_type": "code",
   "execution_count": 21,
   "id": "06d2a9a3",
   "metadata": {},
   "outputs": [],
   "source": [
    "df['change_currency'] = (df['payment_currency'] != df['received_currency']).astype(int)\n",
    "df['change_location'] = (df['sender_bank_location'] != df['sender_bank_location']).astype(int)"
   ]
  },
  {
   "cell_type": "code",
   "execution_count": 23,
   "id": "390a2218",
   "metadata": {},
   "outputs": [
    {
     "name": "stdout",
     "output_type": "stream",
     "text": [
      "Original df shape: (917077, 12)\n",
      "Encoded df shape: (917077, 7)\n",
      "Final df shape: (917077, 13)\n"
     ]
    }
   ],
   "source": [
    "from sklearn.preprocessing import OneHotEncoder\n",
    "\n",
    "\n",
    "# Your categorical columns\n",
    "categorical_cols = [\n",
    "    'payment_type'\n",
    "]\n",
    "\n",
    "encoder = OneHotEncoder(sparse_output=False)\n",
    "\n",
    "encoded_features = encoder.fit_transform(df[categorical_cols])\n",
    "\n",
    "encoded_df = pd.DataFrame(\n",
    "    encoded_features,\n",
    "    columns=encoder.get_feature_names_out(categorical_cols),\n",
    "    index=df.index\n",
    ")\n",
    "print(f\"Original df shape: {df.shape}\")\n",
    "\n",
    "df = df.drop(columns=categorical_cols)\n",
    "df = df.drop(columns=['laundering_type', 'payment_currency', 'received_currency', 'sender_bank_location', 'receiver_bank_location'])\n",
    "df = pd.concat([df, encoded_df], axis=1)\n",
    "\n",
    "# Check the shape and columns\n",
    "print(f\"Encoded df shape: {encoded_df.shape}\")\n",
    "print(f\"Final df shape: {df.shape}\")\n"
   ]
  },
  {
   "cell_type": "code",
   "execution_count": 25,
   "id": "7779cd09",
   "metadata": {},
   "outputs": [],
   "source": [
    "df.to_csv('cleaned_aml.csv', index=False)"
   ]
  },
  {
   "cell_type": "code",
   "execution_count": 70,
   "id": "61995dd5",
   "metadata": {},
   "outputs": [],
   "source": [
    "# spark.stop()"
   ]
  }
 ],
 "metadata": {
  "kernelspec": {
   "display_name": ".venv",
   "language": "python",
   "name": "python3"
  },
  "language_info": {
   "codemirror_mode": {
    "name": "ipython",
    "version": 3
   },
   "file_extension": ".py",
   "mimetype": "text/x-python",
   "name": "python",
   "nbconvert_exporter": "python",
   "pygments_lexer": "ipython3",
   "version": "3.10.12"
  }
 },
 "nbformat": 4,
 "nbformat_minor": 5
}
