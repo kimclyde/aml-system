{
 "cells": [
  {
   "cell_type": "code",
   "execution_count": 1,
   "id": "73a26185",
   "metadata": {},
   "outputs": [
    {
     "ename": "ModuleNotFoundError",
     "evalue": "No module named 'pgmpy'",
     "output_type": "error",
     "traceback": [
      "\u001b[0;31m---------------------------------------------------------------------------\u001b[0m",
      "\u001b[0;31mModuleNotFoundError\u001b[0m                       Traceback (most recent call last)",
      "Cell \u001b[0;32mIn[1], line 1\u001b[0m\n\u001b[0;32m----> 1\u001b[0m \u001b[38;5;28;01mfrom\u001b[39;00m\u001b[38;5;250m \u001b[39m\u001b[38;5;21;01mpgmpy\u001b[39;00m\u001b[38;5;21;01m.\u001b[39;00m\u001b[38;5;21;01mmodels\u001b[39;00m\u001b[38;5;250m \u001b[39m\u001b[38;5;28;01mimport\u001b[39;00m BayesianNetwork\n\u001b[1;32m      2\u001b[0m \u001b[38;5;28;01mfrom\u001b[39;00m\u001b[38;5;250m \u001b[39m\u001b[38;5;21;01mpgmpy\u001b[39;00m\u001b[38;5;21;01m.\u001b[39;00m\u001b[38;5;21;01mfactors\u001b[39;00m\u001b[38;5;21;01m.\u001b[39;00m\u001b[38;5;21;01mdiscrete\u001b[39;00m\u001b[38;5;250m \u001b[39m\u001b[38;5;28;01mimport\u001b[39;00m TabularCPD\n\u001b[1;32m      3\u001b[0m \u001b[38;5;28;01mfrom\u001b[39;00m\u001b[38;5;250m \u001b[39m\u001b[38;5;21;01mpgmpy\u001b[39;00m\u001b[38;5;21;01m.\u001b[39;00m\u001b[38;5;21;01minference\u001b[39;00m\u001b[38;5;250m \u001b[39m\u001b[38;5;28;01mimport\u001b[39;00m VariableElimination\n",
      "\u001b[0;31mModuleNotFoundError\u001b[0m: No module named 'pgmpy'"
     ]
    }
   ],
   "source": [
    "from pgmpy.models import BayesianNetwork\n",
    "from pgmpy.factors.discrete import TabularCPD\n",
    "from pgmpy.inference import VariableElimination"
   ]
  },
  {
   "cell_type": "code",
   "execution_count": 2,
   "id": "15e344f3",
   "metadata": {},
   "outputs": [],
   "source": [
    "# Define the model structure\n",
    "model = BayesianNetwork([('P', 'A'), ('P', 'D'), ('P', 'L'), ('P', 'M'),\n",
    "                         ('T', 'A'), ('T', 'L'), ('T', 'M'),\n",
    "                         ('M', 'S'), ('D', 'S')])\n",
    "\n"
   ]
  },
  {
   "cell_type": "markdown",
   "id": "6331f900",
   "metadata": {},
   "source": [
    "### Define the CPDs"
   ]
  },
  {
   "cell_type": "code",
   "execution_count": 3,
   "id": "e085a640",
   "metadata": {},
   "outputs": [],
   "source": [
    "cpd_p = TabularCPD(variable='P', variable_card=2, values=[[0.3], [0.7]])\n",
    "\n",
    "cpd_t = TabularCPD(variable='T', variable_card=2, values=[[0.5], [0.5]])\n",
    "\n",
    "cpd_a = TabularCPD(variable='A', variable_card=2,\n",
    "                   values=[[0.9, 0.95, 0.1, 0.8],     # P(A=0 | P, T)\n",
    "                           [0.1, 0.05, 0.9, 0.2]],    # P(A=1 | P, T)\n",
    "                   evidence=['P', 'T'],\n",
    "                   evidence_card=[2, 2])\n",
    "\n",
    "\n",
    "cpd_d = TabularCPD(variable='D', variable_card=2,\n",
    "                   values=[[0.99, 0.2],\n",
    "                           [0.001, 0.8]],\n",
    "                   evidence=['P'],\n",
    "                   evidence_card=[2])\n",
    "\n",
    "cpd_l = TabularCPD(variable='L', variable_card=2,\n",
    "                   values=[[0.01, 0.05, 0.3, 0.9],\n",
    "                           [0.99, 0.95, 0.7, 0.1]],\n",
    "                   evidence=['P', 'T'],\n",
    "                   evidence_card=[2, 2])\n",
    "\n",
    "cpd_m = TabularCPD(variable='M', variable_card=2,\n",
    "                   values=[[0.99, 0.9, 0.2, 0.7],\n",
    "                           [0.01, 0.1, 0.8, 0.3]],\n",
    "                   evidence=['P', 'T'],\n",
    "                   evidence_card=[2, 2])\n",
    "\n",
    "cpd_s = TabularCPD(variable='S', variable_card=2,\n",
    "                   values=[[0.4, 0.9, 0.05, 0.3],\n",
    "                           [0.6, 0.1, 0.95, 0.7]],\n",
    "                   evidence=['M', 'D'],\n",
    "                   evidence_card=[2, 2])\n",
    "\n"
   ]
  },
  {
   "cell_type": "markdown",
   "id": "820d3e52",
   "metadata": {},
   "source": [
    "### Add CPDs to the model"
   ]
  },
  {
   "cell_type": "code",
   "execution_count": 4,
   "id": "4b7c77c6",
   "metadata": {},
   "outputs": [],
   "source": [
    "\n",
    "model.add_cpds(cpd_p, cpd_t, cpd_a, cpd_d, cpd_l, cpd_m, cpd_s)"
   ]
  },
  {
   "cell_type": "code",
   "execution_count": 5,
   "id": "7fd23d5e",
   "metadata": {},
   "outputs": [
    {
     "name": "stdout",
     "output_type": "stream",
     "text": [
      "+------+----------+\n",
      "| P    |   phi(P) |\n",
      "+======+==========+\n",
      "| P(0) |   0.1250 |\n",
      "+------+----------+\n",
      "| P(1) |   0.8750 |\n",
      "+------+----------+\n"
     ]
    }
   ],
   "source": [
    "\n",
    "\n",
    "# Verify the model\n",
    "assert model.check_model()\n",
    "\n",
    "# Perform inference\n",
    "infer = VariableElimination(model)\n",
    "result = infer.query(variables=['P'], evidence={'M': 1, 'T': 1})\n",
    "\n",
    "print(result)"
   ]
  }
 ],
 "metadata": {
  "kernelspec": {
   "display_name": ".venv",
   "language": "python",
   "name": "python3"
  },
  "language_info": {
   "codemirror_mode": {
    "name": "ipython",
    "version": 3
   },
   "file_extension": ".py",
   "mimetype": "text/x-python",
   "name": "python",
   "nbconvert_exporter": "python",
   "pygments_lexer": "ipython3",
   "version": "3.10.12"
  }
 },
 "nbformat": 4,
 "nbformat_minor": 5
}
